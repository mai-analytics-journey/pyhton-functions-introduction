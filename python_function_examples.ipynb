{
 "cells": [
  {
   "cell_type": "code",
   "execution_count": 6,
   "id": "e2e8f7c0-1f32-4961-af68-d0b347ae6bd9",
   "metadata": {
    "tags": []
   },
   "outputs": [],
   "source": [
    "# Author: Alexandra Mai\n",
    "# Date: 16th of May 2023\n",
    "# Title: Introduction to Python Functions"
   ]
  },
  {
   "cell_type": "markdown",
   "id": "e69035c0-5365-4adf-ba57-290e700d7505",
   "metadata": {},
   "source": [
    "# Python Functions"
   ]
  },
  {
   "cell_type": "markdown",
   "id": "233373db-1d0b-49ac-9695-54499cfd025d",
   "metadata": {
    "tags": []
   },
   "source": [
    "```python\n",
    "def function_name(input_variables):\n",
    "    # function body\n",
    "    return output\n",
    "```"
   ]
  },
  {
   "cell_type": "markdown",
   "id": "972f7289-268b-46e3-b77f-87762295421c",
   "metadata": {},
   "source": [
    "# First examples from the lecture"
   ]
  },
  {
   "cell_type": "markdown",
   "id": "80abe239-b87c-4606-beff-9608194d3f23",
   "metadata": {
    "tags": []
   },
   "source": [
    "### Function with single input parameter"
   ]
  },
  {
   "cell_type": "code",
   "execution_count": 42,
   "id": "47c1c035-5dee-4b09-93c9-6dc3e11908bf",
   "metadata": {
    "tags": []
   },
   "outputs": [],
   "source": [
    "def add_ten(x):\n",
    "    return x+10"
   ]
  },
  {
   "cell_type": "code",
   "execution_count": 43,
   "id": "aa7a4619-4ff8-4fce-83d1-1fedd0a7669d",
   "metadata": {
    "tags": []
   },
   "outputs": [
    {
     "data": {
      "text/plain": [
       "15"
      ]
     },
     "execution_count": 43,
     "metadata": {},
     "output_type": "execute_result"
    }
   ],
   "source": [
    "add_ten(5)"
   ]
  },
  {
   "cell_type": "markdown",
   "id": "f9f71882-1c10-4a79-9300-4619f6925a19",
   "metadata": {},
   "source": [
    "### Function with multiple input parameters"
   ]
  },
  {
   "cell_type": "code",
   "execution_count": 9,
   "id": "e0599786-4c8d-42bc-bfa2-73a9fb02b80d",
   "metadata": {
    "tags": []
   },
   "outputs": [],
   "source": [
    "def add_up(x,y):\n",
    "    return x+y"
   ]
  },
  {
   "cell_type": "code",
   "execution_count": 10,
   "id": "1b570109-55a7-4069-ae01-200cfa6f99a9",
   "metadata": {
    "tags": []
   },
   "outputs": [
    {
     "data": {
      "text/plain": [
       "25"
      ]
     },
     "execution_count": 10,
     "metadata": {},
     "output_type": "execute_result"
    }
   ],
   "source": [
    "add_up(5,20)"
   ]
  },
  {
   "cell_type": "markdown",
   "id": "17365ec9-aee1-4327-bff8-823191f7b581",
   "metadata": {},
   "source": [
    "...store your output in a new variable:"
   ]
  },
  {
   "cell_type": "code",
   "execution_count": 11,
   "id": "fef4ec51-e784-487a-b55e-2cdbb78a9ef0",
   "metadata": {
    "tags": []
   },
   "outputs": [],
   "source": [
    "# the result can be assigned to a new variable\n",
    "result = add_up(5,20)"
   ]
  },
  {
   "cell_type": "code",
   "execution_count": 12,
   "id": "85f71a85-ef29-4087-91b1-81fb61195147",
   "metadata": {
    "tags": []
   },
   "outputs": [
    {
     "data": {
      "text/plain": [
       "25"
      ]
     },
     "execution_count": 12,
     "metadata": {},
     "output_type": "execute_result"
    }
   ],
   "source": [
    "result"
   ]
  },
  {
   "cell_type": "markdown",
   "id": "e84dbb7d-15c0-4717-89f3-a95d6e398398",
   "metadata": {},
   "source": [
    "## Function Comments"
   ]
  },
  {
   "cell_type": "code",
   "execution_count": null,
   "id": "8b5ccb37-1cfe-4963-9505-27ae6195eb5a",
   "metadata": {},
   "outputs": [],
   "source": [
    "def add_up(x,y):\n",
    "    \"\"\"\n",
    "    this function sums up to given values x and y.\n",
    "    \"\"\"\n",
    "    return x+y"
   ]
  },
  {
   "cell_type": "markdown",
   "id": "8e180b3b-9bc7-45d0-ba46-d1a57303a51a",
   "metadata": {},
   "source": [
    "## Example of applying Discounts to Prices"
   ]
  },
  {
   "cell_type": "markdown",
   "id": "cc860061-9104-4cfd-9546-93d2b184daf0",
   "metadata": {
    "tags": []
   },
   "source": [
    "> Given a list of Prices: $ prices = [300, 550.3, 10.80, 400, 1000, 60, 150, 78, 290]$.\n",
    ">\n",
    "> We want to loop through the list and apply two types of discounts: \n",
    "> - The christmas discount gives 20% to every price. \n",
    "> - The special discount of 15% applies only to prices over 200.\n",
    ">\n",
    "> The result should be stored in a new list.\n"
   ]
  },
  {
   "cell_type": "code",
   "execution_count": 14,
   "id": "54d3cf24-f219-41f8-827d-9f4a2f51ca3a",
   "metadata": {
    "tags": []
   },
   "outputs": [],
   "source": [
    "prices = [300, 550.3, 10.80, 400, 1000, 60, 150, 78, 290]\n",
    "new_price_list = []"
   ]
  },
  {
   "cell_type": "markdown",
   "id": "b5b53360-262c-4295-ad5c-2c6b70198395",
   "metadata": {
    "tags": []
   },
   "source": [
    "### solution without functions"
   ]
  },
  {
   "cell_type": "code",
   "execution_count": 15,
   "id": "acdd8f1c-0c67-42c8-a426-9801a350c794",
   "metadata": {
    "tags": []
   },
   "outputs": [],
   "source": [
    "for price in prices:\n",
    "    \n",
    "    # the discout for christmas was 20%\n",
    "    price_xmas_disc = price*0.8\n",
    "    \n",
    "    # the special discount of 15% applies only to purchases that cost more than 200 Euro\n",
    "    if price_xmas_disc >= 200:\n",
    "        price_final = price_xmas_disc*0.85\n",
    "    else:\n",
    "        price_final = price_xmas_disc\n",
    "        \n",
    "    new_price_list.append(price_final)\n",
    "\n",
    "    "
   ]
  },
  {
   "cell_type": "code",
   "execution_count": 16,
   "id": "763b2aca-eaf8-459b-a178-93a3cef3ace8",
   "metadata": {
    "tags": []
   },
   "outputs": [
    {
     "data": {
      "text/plain": [
       "[204.0, 374.204, 8.64, 272.0, 680.0, 48.0, 120.0, 62.400000000000006, 197.2]"
      ]
     },
     "execution_count": 16,
     "metadata": {},
     "output_type": "execute_result"
    }
   ],
   "source": [
    "new_price_list"
   ]
  },
  {
   "cell_type": "markdown",
   "id": "cc21dc70-5a58-4a80-90ef-0a25d6b22d30",
   "metadata": {
    "tags": []
   },
   "source": [
    "### solution with functions"
   ]
  },
  {
   "cell_type": "code",
   "execution_count": null,
   "id": "13924d68-6086-44ee-86ea-7b9563e73889",
   "metadata": {},
   "outputs": [],
   "source": [
    "def apply_christmas_discount(x):\n",
    "    \"\"\"\n",
    "    this function applies the christmans discount of 20% to a given price x.\n",
    "    \"\"\"\n",
    "    return x*0.8\n",
    "\n",
    "def apply_special_discount(x):\n",
    "    \"\"\"\n",
    "    this function applies the special discount of 15% to a given price x only if the price is over 200.\n",
    "    \"\"\"\n",
    "    if x >= 200:\n",
    "        return x*0.85\n",
    "    else:\n",
    "        return x"
   ]
  },
  {
   "cell_type": "code",
   "execution_count": null,
   "id": "6e694dcc-81f2-4bdf-abc2-b7b8aef36263",
   "metadata": {},
   "outputs": [],
   "source": [
    "for price in prices:\n",
    "\n",
    "    price_xmas_disc = apply_christmas_discount(price)\n",
    "    price_final = apply_special_discount(price_xmas_disc)\n",
    "\n",
    "    new_price_list.append(price_final)\n",
    "    "
   ]
  },
  {
   "cell_type": "code",
   "execution_count": 38,
   "id": "e5f039f9-c922-44f7-b7d9-dc35b498f66e",
   "metadata": {
    "tags": []
   },
   "outputs": [
    {
     "data": {
      "text/plain": [
       "[204.0, 374.204, 8.64, 272.0, 680.0, 48.0, 120.0, 62.400000000000006, 197.2]"
      ]
     },
     "execution_count": 38,
     "metadata": {},
     "output_type": "execute_result"
    }
   ],
   "source": [
    "new_price_list"
   ]
  },
  {
   "cell_type": "markdown",
   "id": "36a3110e-2bc6-4409-9d47-5fc041389af9",
   "metadata": {},
   "source": [
    "# Practical Exercise for you"
   ]
  },
  {
   "cell_type": "markdown",
   "id": "6522888d-489a-4fd5-a148-3e7d43999913",
   "metadata": {},
   "source": [
    "**Business Context:**\n",
    "> You work in a realestate agency. a common request your team receives is to calculate the bond for a new rental contract.   \n",
    "> In the hottest realestate market Berlin the bond is 4 times the value of the montlhy rent. \n",
    "> Everwhere else in germany the bond is 3 times the value of the monthly rent.\n",
    "\n",
    "**Task:**\n",
    "> Write a python function that calculcates the bond based on the monthly rent and the city the person lives in."
   ]
  },
  {
   "cell_type": "code",
   "execution_count": null,
   "id": "939ee168-4a53-4d36-a59e-56ed21970d5a",
   "metadata": {},
   "outputs": [],
   "source": [
    "# Test your function with\n",
    "monthly_rent = 350\n",
    "city = 'Berlin'"
   ]
  },
  {
   "cell_type": "code",
   "execution_count": null,
   "id": "eba8ffa7-5912-4cb0-abd8-ba4cac81ab02",
   "metadata": {},
   "outputs": [],
   "source": []
  },
  {
   "cell_type": "code",
   "execution_count": null,
   "id": "cac0c427-b93a-4c32-8470-aefa47a2d909",
   "metadata": {},
   "outputs": [],
   "source": []
  }
 ],
 "metadata": {
  "kernelspec": {
   "display_name": "Python 3 (ipykernel)",
   "language": "python",
   "name": "python3"
  },
  "language_info": {
   "codemirror_mode": {
    "name": "ipython",
    "version": 3
   },
   "file_extension": ".py",
   "mimetype": "text/x-python",
   "name": "python",
   "nbconvert_exporter": "python",
   "pygments_lexer": "ipython3",
   "version": "3.11.3"
  }
 },
 "nbformat": 4,
 "nbformat_minor": 5
}
